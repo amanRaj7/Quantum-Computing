{
 "cells": [
  {
   "cell_type": "code",
   "execution_count": 1,
   "id": "5948eb2b-2b8f-4bc1-9af2-58f172f1ce49",
   "metadata": {},
   "outputs": [],
   "source": [
    "class state:\n",
    "    def __init__(self, comprob_a, comprob_b):\n",
    "        self.prob_a = comprob_a\n",
    "        self.prob_b = comprob_b\n",
    "    def modify(self, prob_0, prob_1):\n",
    "        self.prob_a = prob_0\n",
    "        self.prob_b = prob_1\n",
    "    def __str__(self):\n",
    "        out = \"Probability: \\n\"\n",
    "        out += \"Prob of 0: \"\n",
    "        out += str((abs(self.prob_a))**2)\n",
    "        out += '\\n'\n",
    "        out += \"Prob of 1: \"\n",
    "        out += str((abs(self.prob_b))**2)\n",
    "        out += '\\n'\n",
    "        out += self.qubit()\n",
    "        out += '\\n-------\\n'\n",
    "        return out\n",
    "    def __eq__(self, other):\n",
    "        if self.prob_a == other.prob_a and self.prob_b==other.prob_b:\n",
    "            return True\n",
    "        else:\n",
    "            return False\n",
    "    def qubit(self):\n",
    "        out = ''\n",
    "        out += 'Qubit: '\n",
    "        out += str(self.prob_a) if (self.prob_a != 0) else ''\n",
    "        out += '|0>' if (self.prob_a!=0) else ''\n",
    "        out += '+' if ((self.prob_a!=0) and (self.prob_b!=0)) else ''\n",
    "        out += str(self.prob_b) if (self.prob_b != 0) else ''\n",
    "        out += '|1>' if (self.prob_b!=0) else ''\n",
    "        return out"
   ]
  },
  {
   "cell_type": "code",
   "execution_count": 2,
   "id": "34d60e73-111d-4b74-9a7f-c5eff4f62585",
   "metadata": {},
   "outputs": [],
   "source": [
    "# Defining the state of v Gate\n",
    "state_1 = state(1, 0) # define the |0>\n",
    "state_2 = state((1/(0+2j)**0.5), (1j/(0+2j)**0.5))\n",
    "state_3 = state(0, 1) # define the |1>\n",
    "state_4 = state( (1j/(0+2j)**0.5), (1/(0+2j)**0.5))\n",
    "state_arr = [state_1, state_2, state_3, state_4]"
   ]
  },
  {
   "cell_type": "code",
   "execution_count": 3,
   "id": "3684e965-6b2a-40b9-86e9-fdcbb4b55b78",
   "metadata": {},
   "outputs": [],
   "source": [
    "def vGate(cont,out):\n",
    "    \"\"\" V Gate act as state machine \"\"\"\n",
    "    if cont==state_1:\n",
    "        # No change to out\n",
    "        return out\n",
    "    elif cont==state_3:\n",
    "        # change out state to next state\n",
    "        return state_arr[(state_arr.index(out)+1)%4]"
   ]
  },
  {
   "cell_type": "code",
   "execution_count": 4,
   "id": "6a69ca69-338a-417e-8ea0-9d31d35a28d5",
   "metadata": {},
   "outputs": [],
   "source": [
    "def vGateT(cont, out):\n",
    "    \"\"\" Defining the transpose of vGate \"\"\"\n",
    "    if cont==state_1:\n",
    "        # No change to out\n",
    "        return out\n",
    "    elif cont==state_3:\n",
    "        # change out state to prev state\n",
    "        return state_arr[(state_arr.index(out)-1)%4]"
   ]
  },
  {
   "cell_type": "code",
   "execution_count": 5,
   "id": "fab1ea3f-bb52-4955-9d2e-ce1bc47c7a62",
   "metadata": {},
   "outputs": [],
   "source": [
    "def cNot(cont, out):\n",
    "    \"\"\" This function implement quantum cNot\"\"\"\n",
    "    if cont==state_1:\n",
    "        # No change to out\n",
    "        return out\n",
    "    elif cont==state_3:\n",
    "        # change the state |0> to |1> and |1> to |0>\n",
    "        if out==state_1:\n",
    "            return state_3\n",
    "        elif out==state_3:\n",
    "            return state_1\n",
    "        else:\n",
    "            print(\"Not handled yet\")"
   ]
  },
  {
   "cell_type": "code",
   "execution_count": 6,
   "id": "00679a1d-b736-42fa-a79c-20676dca0cd2",
   "metadata": {},
   "outputs": [],
   "source": [
    "def ppg(a, b, s = state_1):\n",
    "    \"\"\" This function simulated the working of Product pair generator (implement quantum computing) \"\"\"\n",
    "    s = vGate(a, s)\n",
    "    a = cNot(b, a)\n",
    "    s = vGate(b, s)\n",
    "    s = vGateT(a, s)\n",
    "    a = cNot(b, a)\n",
    "    return a, b, s"
   ]
  },
  {
   "cell_type": "code",
   "execution_count": 7,
   "id": "cbc162de-296d-4f1a-a704-4b3e3aa0260e",
   "metadata": {},
   "outputs": [],
   "source": [
    "def qfa(a, b, c, s=state_1):\n",
    "    \"\"\"This function implement the quantum full addition\"\"\"\n",
    "    temp = (a,b,c)\n",
    "    s = vGate(b, s)\n",
    "    s = vGate(a, s)\n",
    "    b = cNot(a, b)\n",
    "    s = vGate(c, s)\n",
    "    c = cNot(b, c)\n",
    "    s = vGateT(c,s)\n",
    "    return temp[0], temp[1], temp[2], c, s"
   ]
  },
  {
   "cell_type": "code",
   "execution_count": 8,
   "id": "9390a710-2ae0-4efa-91c3-3893afab6f70",
   "metadata": {},
   "outputs": [],
   "source": [
    "def qfs(a, b, c, s=state_1):\n",
    "    \"\"\"This function implement the quantum full addition\"\"\"\n",
    "    temp = (a,b,c)\n",
    "    s = vGate(c, s)\n",
    "    c = cNot(b, c)\n",
    "    s = vGate(b, s)\n",
    "    c = cNot(a, c)\n",
    "    s = vGateT(a, s)\n",
    "    s = vGate(c, s)\n",
    "    return temp[0], temp[1], temp[2], c, s"
   ]
  },
  {
   "cell_type": "code",
   "execution_count": 9,
   "id": "6f7b1aa8-fa0d-4727-9fd9-8c61daa0945e",
   "metadata": {},
   "outputs": [],
   "source": [
    "def addition_n(a, b, n = 4):\n",
    "    \"\"\" This function calculate the sum of two n-qubit number\"\"\"\n",
    "    carry = [state_1]*(2*n)\n",
    "    res = [state_1]*(2*n)\n",
    "    for i in range(n):\n",
    "        _, __, ___, res[i], carry[i+1] = qfa(a[i], b[i], carry[i])\n",
    "    res[n] = carry[n]\n",
    "    return res"
   ]
  },
  {
   "cell_type": "code",
   "execution_count": 10,
   "id": "92a0f4f2-fcf4-43e6-818c-a69c11f13549",
   "metadata": {},
   "outputs": [],
   "source": [
    "def subtractor_n(a, b, n = 4):\n",
    "    \"\"\" This function calculate the difference to two n-qubit number \"\"\"\n",
    "    carry = [state_1]*(n+1)\n",
    "    diff = [state_1]*n\n",
    "    for i in range(n):\n",
    "        _, __, ___, diff[i], carry[i+1] = qfs(a[i], b[i], carry[i])\n",
    "    return diff"
   ]
  },
  {
   "cell_type": "code",
   "execution_count": 11,
   "id": "e2995517-217d-4c68-8f40-8afd908a67db",
   "metadata": {},
   "outputs": [],
   "source": [
    "# Implementing quantum circuit of grade school multiplication algorithm\n",
    "def quantum_multiplication4X4(multiplier, multiplicand):\n",
    "    \"\"\"The function multiplied two quantum number\"\"\"\n",
    "    x0y0 = ppg(multiplier[0], multiplicand[0])[-1]\n",
    "    x0y1 = ppg(multiplier[0], multiplicand[1])[-1]\n",
    "    x0y2 = ppg(multiplier[0], multiplicand[2])[-1]\n",
    "    x0y3 = ppg(multiplier[0], multiplicand[3])[-1]\n",
    "    x1y0 = ppg(multiplier[1], multiplicand[0])[-1]\n",
    "    x1y1 = ppg(multiplier[1], multiplicand[1])[-1]\n",
    "    x1y2 = ppg(multiplier[1], multiplicand[2])[-1]\n",
    "    x1y3 = ppg(multiplier[1], multiplicand[3])[-1]\n",
    "    x2y0 = ppg(multiplier[2], multiplicand[0])[-1]\n",
    "    x2y1 = ppg(multiplier[2], multiplicand[1])[-1]\n",
    "    x2y2 = ppg(multiplier[2], multiplicand[2])[-1]\n",
    "    x2y3 = ppg(multiplier[2], multiplicand[3])[-1]\n",
    "    x3y0 = ppg(multiplier[3], multiplicand[0])[-1]\n",
    "    x3y1 = ppg(multiplier[3], multiplicand[1])[-1]\n",
    "    x3y2 = ppg(multiplier[3], multiplicand[2])[-1]\n",
    "    x3y3 = ppg(multiplier[3], multiplicand[3])[-1]\n",
    "    pro = [state_1]*8\n",
    "    c = state_1\n",
    "    pro[0], c = qfa(x0y0, state_1, state_1)[3:]\n",
    "    pro[1], c = qfa(x1y0, x0y1, c)[3:]\n",
    "    pro[2],c = qfa(x2y0, x1y1, c)[3:]\n",
    "    pro[2],c = qfa(pro[2],x0y2,c)[3:]\n",
    "    pro[3],c = qfa(x3y0, x2y1, c)[3:]\n",
    "    pro[3],c = qfa(pro[3],x1y2, c)[3:]\n",
    "    pro[3],c = qfa(pro[3],x0y3, c)[3:]\n",
    "    pro[4],c = qfa(x3y1, x2y2, c)[3:]\n",
    "    pro[4],c = qfa(pro[4],x1y3,c)[3:]\n",
    "    pro[5],c = qfa(x3y2, x2y3, c)[3:]\n",
    "    pro[6],c = qfa(x3y3, state_1, c)[3:]\n",
    "    pro[7] = c\n",
    "    return pro"
   ]
  },
  {
   "cell_type": "code",
   "execution_count": 12,
   "id": "c7b329af-015d-4865-b418-f4c2f5450e75",
   "metadata": {},
   "outputs": [],
   "source": [
    "def quantum_multiplication8x8(multiplier, multiplicand):\n",
    "    \"\"\"The function multiplies two 8-bit quantum numbers and returns a 16-bit quantum result.\"\"\"\n",
    "    # Initialize a list to store the partial products\n",
    "    partial_products = [[state_1] * 8 for _ in range(8)]\n",
    "    \n",
    "    # Calculate the partial products\n",
    "    for i in range(8):\n",
    "        for j in range(8):\n",
    "            partial_products[i][j] = ppg(multiplier[i], multiplicand[j])[-1]\n",
    "    \n",
    "    # Initialize the product array with 16 bits\n",
    "    pro = [state_1] * 16\n",
    "    \n",
    "    # Initialize carry bits\n",
    "    c = [state_1] * 15\n",
    "    \n",
    "    # Sum the partial products using quantum full adders\n",
    "    for i in range(8):\n",
    "        for j in range(8):\n",
    "            if i + j == 0:\n",
    "                pro[0], c[0] = qfa(partial_products[0][0], state_1, state_1)[3:]\n",
    "            else:\n",
    "                idx = i + j\n",
    "                pro[idx], c[idx] = qfa(partial_products[i][j], pro[idx], c[idx-1])[3:]\n",
    "    \n",
    "    # Handle the final carry bits\n",
    "    for k in range(8, 15):\n",
    "        pro[k+1], c[k] = qfa(state_1, pro[k+1], c[k])[3:]\n",
    "    \n",
    "    return pro"
   ]
  },
  {
   "cell_type": "code",
   "execution_count": 13,
   "id": "d206ff2a-846a-47b0-9e7f-a0f9255ab9a5",
   "metadata": {},
   "outputs": [],
   "source": [
    "a = [state_3, state_1, state_3, state_3] # 1101\n",
    "b = [state_1, state_1, state_3, state_1] # 0100\n",
    "p = quantum_multiplication4X4(a, b) # 0110100"
   ]
  },
  {
   "cell_type": "code",
   "execution_count": 14,
   "id": "a9796fa7-28ee-465f-8f10-8258056eb1f5",
   "metadata": {},
   "outputs": [
    {
     "name": "stdout",
     "output_type": "stream",
     "text": [
      "0 Qubit: 1|0>\n",
      "1 Qubit: 1|0>\n",
      "2 Qubit: 1|1>\n",
      "3 Qubit: 1|0>\n",
      "4 Qubit: 1|1>\n",
      "5 Qubit: 1|1>\n",
      "6 Qubit: 1|0>\n",
      "7 Qubit: 1|0>\n"
     ]
    }
   ],
   "source": [
    "for (i,x) in enumerate(p):\n",
    "    print(i, x.qubit())"
   ]
  },
  {
   "cell_type": "code",
   "execution_count": 15,
   "id": "10dc2049-fa9c-4fbe-81fd-e8110275cd90",
   "metadata": {},
   "outputs": [],
   "source": [
    "def get_result(quantum):\n",
    "    \"\"\"This function convert quantum result to numerical value\"\"\"\n",
    "    num = '0b'+''.join(list(map(lambda x: '0' if x==state_1 else '1', quantum))[::-1])\n",
    "    print(num)\n",
    "    print(int(num,2))"
   ]
  },
  {
   "cell_type": "code",
   "execution_count": 16,
   "id": "cef061d2-c70d-4aef-bc05-cf337d636098",
   "metadata": {},
   "outputs": [
    {
     "name": "stdout",
     "output_type": "stream",
     "text": [
      "0b1101\n",
      "13\n",
      "0b0100\n",
      "4\n",
      "0b00110100\n",
      "52\n"
     ]
    }
   ],
   "source": [
    "get_result(a)\n",
    "get_result(b)\n",
    "get_result(p)"
   ]
  },
  {
   "cell_type": "code",
   "execution_count": 17,
   "id": "12488708-ad99-46d2-bd4b-25488fd1f912",
   "metadata": {},
   "outputs": [],
   "source": [
    "def mapper(num1, num2, length=4):\n",
    "    \"\"\"This function take two number and return its quatum state\"\"\"\n",
    "    bin1 = bin(num1)[2:]\n",
    "    bin2 = bin(num2)[2:]\n",
    "    t = length\n",
    "    bin1 = '0'*(t-len(bin1))+bin1\n",
    "    bin2 = '0'*(t-len(bin2))+bin2\n",
    "    bin1 = list(map(lambda x: state_1 if x=='0' else state_3, bin1))\n",
    "    bin2 = list(map(lambda x: state_1 if x=='0' else state_3, bin2))\n",
    "    bin1 = bin1[::-1]\n",
    "    bin2 = bin2[::-1]\n",
    "    return bin1, bin2"
   ]
  },
  {
   "cell_type": "code",
   "execution_count": 18,
   "id": "59cd98ca-a5da-4c92-9341-e92fd12ba653",
   "metadata": {},
   "outputs": [
    {
     "name": "stdout",
     "output_type": "stream",
     "text": [
      "0b1101\n",
      "13\n",
      "0b0100\n",
      "4\n"
     ]
    }
   ],
   "source": [
    "a, b = mapper(13, 4)\n",
    "get_result(a)\n",
    "get_result(b)"
   ]
  },
  {
   "cell_type": "code",
   "execution_count": 19,
   "id": "39a5d3c8-e87e-4e79-9539-588c4748241f",
   "metadata": {},
   "outputs": [
    {
     "name": "stdout",
     "output_type": "stream",
     "text": [
      "0b00110100\n",
      "52\n"
     ]
    }
   ],
   "source": [
    "p = quantum_multiplication4X4(a, b)\n",
    "get_result(p)"
   ]
  },
  {
   "cell_type": "code",
   "execution_count": 20,
   "id": "b1878091-6e53-4de8-85b3-e1d943fb25a7",
   "metadata": {},
   "outputs": [],
   "source": [
    "a, b = mapper(13, 4, 8)\n",
    "p = quantum_multiplication8x8(a, b)"
   ]
  },
  {
   "cell_type": "code",
   "execution_count": 21,
   "id": "73b74003-dfbe-4e08-9ae8-d18f697bc59b",
   "metadata": {},
   "outputs": [
    {
     "name": "stdout",
     "output_type": "stream",
     "text": [
      "0b0000000000110100\n",
      "52\n"
     ]
    }
   ],
   "source": [
    "get_result(p)"
   ]
  },
  {
   "cell_type": "code",
   "execution_count": 22,
   "id": "98f8ccef-8797-4818-87e8-d1c72c559d72",
   "metadata": {},
   "outputs": [
    {
     "data": {
      "text/plain": [
       "[1, 2]"
      ]
     },
     "execution_count": 22,
     "metadata": {},
     "output_type": "execute_result"
    }
   ],
   "source": [
    "arr = [1, 2, 3, 4]\n",
    "arr[:2]"
   ]
  },
  {
   "cell_type": "code",
   "execution_count": 23,
   "id": "7ab71d89-b844-4338-bba9-7c44f5a30789",
   "metadata": {},
   "outputs": [
    {
     "name": "stdout",
     "output_type": "stream",
     "text": [
      "0b00010001\n",
      "17\n"
     ]
    }
   ],
   "source": [
    "a, b = mapper(13, 4)\n",
    "c = addition_n(a, b)\n",
    "get_result(c)"
   ]
  },
  {
   "cell_type": "code",
   "execution_count": 24,
   "id": "cf30ef5a-aa7b-443a-9303-4e480432e682",
   "metadata": {},
   "outputs": [
    {
     "name": "stdout",
     "output_type": "stream",
     "text": [
      "0b1101\n",
      "13\n",
      "0b0100\n",
      "4\n"
     ]
    }
   ],
   "source": [
    "get_result(a)\n",
    "get_result(b)"
   ]
  },
  {
   "cell_type": "code",
   "execution_count": 25,
   "id": "3c8113f4-8057-4edd-8985-8651c82e2dc2",
   "metadata": {},
   "outputs": [
    {
     "name": "stdout",
     "output_type": "stream",
     "text": [
      "0b1001\n",
      "9\n"
     ]
    }
   ],
   "source": [
    "c = subtractor_n(a, b)\n",
    "get_result(c)"
   ]
  },
  {
   "cell_type": "code",
   "execution_count": 71,
   "id": "9bf82afa-ff4c-4bbd-ba2f-6036a570df68",
   "metadata": {},
   "outputs": [],
   "source": [
    "def karatsuba(num1, num2):\n",
    "\n",
    "    Y1 = num1[:4]\n",
    "    X1 = num1[4:]\n",
    "    get_result(X1)\n",
    "    get_result(Y1)\n",
    "    \n",
    "    Y2 = num2[:4]\n",
    "    X2 = num2[4:]\n",
    "    get_result(X2)\n",
    "    get_result(Y2)\n",
    "    \n",
    "    U = quantum_multiplication4X4(X1, X2)\n",
    "    V = quantum_multiplication4X4(Y1, Y2)\n",
    "    \n",
    "    W1 = addition_n(X1, Y1)\n",
    "    W2 = addition_n(X2, Y2)\n",
    "    \n",
    "    W = quantum_multiplication8x8(W1, W2)\n",
    "    temp = addition_n(U, V, 8)\n",
    "    Z = subtractor_n(W, temp, 16)\n",
    "    \n",
    "    U = [state_1]*8+U\n",
    "    Z = [state_1]*4+Z[:-4]\n",
    "    V = V+[state_1]*8\n",
    "\n",
    "    res = [state_1] * 16\n",
    "    carry = [state_1]*17\n",
    "    for i in range(16):\n",
    "        _, __, ___, res[i], carry[i+1] = qfa(U[i], V[i], Z[i])\n",
    "    for i in range(16):\n",
    "        _, __, ___, res[i], carry[i+1] = qfa(res[i], carry[i], state_1)\n",
    "\n",
    "    return res\n",
    "    "
   ]
  },
  {
   "cell_type": "code",
   "execution_count": 83,
   "id": "339c1982-0ca9-452c-aa52-d1ca0ba58968",
   "metadata": {},
   "outputs": [],
   "source": [
    "a, b = mapper(10, 8, 8)"
   ]
  },
  {
   "cell_type": "code",
   "execution_count": 84,
   "id": "18453d8d-fc8b-4b01-9aee-f29977e702ca",
   "metadata": {},
   "outputs": [
    {
     "name": "stdout",
     "output_type": "stream",
     "text": [
      "0b00001010\n",
      "10\n",
      "0b00001000\n",
      "8\n"
     ]
    }
   ],
   "source": [
    "get_result(a)\n",
    "get_result(b)"
   ]
  },
  {
   "cell_type": "code",
   "execution_count": 85,
   "id": "d9e62543-3b36-4e94-8fb3-f1d8dd449fc0",
   "metadata": {},
   "outputs": [
    {
     "name": "stdout",
     "output_type": "stream",
     "text": [
      "0b0000\n",
      "0\n",
      "0b1010\n",
      "10\n",
      "0b0000\n",
      "0\n",
      "0b1000\n",
      "8\n",
      "0b00000000\n",
      "0\n",
      "0b01010000\n",
      "80\n",
      "0b00001010\n",
      "10\n",
      "0b00001000\n",
      "8\n",
      "0b0000000001010000\n",
      "80\n",
      "0b0000000001010000\n",
      "80\n",
      "0b0000000000000000\n",
      "0\n",
      "0b00000000\n",
      "0\n",
      "0b01010000\n",
      "80\n",
      "0b0000000001010000\n",
      "80\n"
     ]
    }
   ],
   "source": [
    "c = karatsuba(a, b)"
   ]
  },
  {
   "cell_type": "code",
   "execution_count": 86,
   "id": "7697bb11-9f5a-43c2-8078-672b25ff179c",
   "metadata": {},
   "outputs": [
    {
     "name": "stdout",
     "output_type": "stream",
     "text": [
      "0b0000000001010000\n",
      "80\n"
     ]
    }
   ],
   "source": [
    "get_result(c)"
   ]
  },
  {
   "cell_type": "code",
   "execution_count": 64,
   "id": "b163c97c-ae63-4631-bf7a-d942c2340510",
   "metadata": {},
   "outputs": [],
   "source": [
    "x, y=mapper(400, 0)"
   ]
  },
  {
   "cell_type": "code",
   "execution_count": 65,
   "id": "84317825-fa32-4e8c-8304-6c48a62fb28d",
   "metadata": {},
   "outputs": [
    {
     "name": "stdout",
     "output_type": "stream",
     "text": [
      "0b110010000\n",
      "400\n"
     ]
    }
   ],
   "source": [
    "get_result(x)"
   ]
  },
  {
   "cell_type": "code",
   "execution_count": 78,
   "id": "1027b309-969b-49e4-891d-4d5d28adcda1",
   "metadata": {},
   "outputs": [
    {
     "name": "stdout",
     "output_type": "stream",
     "text": [
      "0b00000011\n",
      "3\n",
      "0b00000011\n",
      "3\n",
      "0b0000000000001101\n",
      "13\n"
     ]
    }
   ],
   "source": [
    "a, b = mapper(3, 3, 8)\n",
    "c = quantum_multiplication8x8(a, b)\n",
    "get_result(a)\n",
    "get_result(b)\n",
    "get_result(c)"
   ]
  },
  {
   "cell_type": "code",
   "execution_count": null,
   "id": "703d2769-4d6c-41c7-95f0-cb3de096ec8d",
   "metadata": {},
   "outputs": [],
   "source": []
  },
  {
   "cell_type": "code",
   "execution_count": null,
   "id": "57dc692b-4e13-405f-b8dd-c3565bd073f7",
   "metadata": {},
   "outputs": [],
   "source": []
  }
 ],
 "metadata": {
  "kernelspec": {
   "display_name": "Python 3 (ipykernel)",
   "language": "python",
   "name": "python3"
  },
  "language_info": {
   "codemirror_mode": {
    "name": "ipython",
    "version": 3
   },
   "file_extension": ".py",
   "mimetype": "text/x-python",
   "name": "python",
   "nbconvert_exporter": "python",
   "pygments_lexer": "ipython3",
   "version": "3.11.9"
  }
 },
 "nbformat": 4,
 "nbformat_minor": 5
}
