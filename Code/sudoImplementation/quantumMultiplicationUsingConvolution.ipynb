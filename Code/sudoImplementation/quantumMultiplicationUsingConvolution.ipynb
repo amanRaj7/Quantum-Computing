{
 "cells": [
  {
   "cell_type": "code",
   "execution_count": 1,
   "id": "d589ad55-b30e-4bcb-aa21-6cc27ee8d48f",
   "metadata": {},
   "outputs": [],
   "source": [
    "# import libaries\n",
    "import numpy as np\n",
    "import math\n",
    "import matplotlib.pyplot as plt"
   ]
  },
  {
   "cell_type": "code",
   "execution_count": 2,
   "id": "87e3b6bd-c71b-4b0b-ada5-af49eac98b29",
   "metadata": {},
   "outputs": [],
   "source": [
    "# Multiplication using Qubit implementation\n",
    "class qubit:\n",
    "    def __init__(self, state_len, arr=[]):\n",
    "        \"\"\"Initialize the qubit\"\"\"\n",
    "        if(len(arr)==0):\n",
    "            self.state = [0]*(2**state_len)\n",
    "        else:\n",
    "            self.state = arr\n",
    "\n",
    "    def encoder(self, num):\n",
    "        \"\"\" This function encoded number into qubit state \"\"\"\n",
    "        binary_num = bin(num)[2:][::-1]\n",
    "        for (i,char) in enumerate(binary_num):\n",
    "            if char=='1':\n",
    "                self.state[i] = 1\n",
    "            else:\n",
    "                self.state[i] = 0\n",
    "\n",
    "    def fft(self):\n",
    "        \"\"\" This function calculate fft of the state \"\"\"\n",
    "        self.state = np.fft.fft(self.state[::-1])\n",
    "        self.state = self.state[::-1]\n",
    "\n",
    "    def ifft(self):\n",
    "        \"\"\" This function calculate ifft of the state \"\"\"\n",
    "        self.state = np.fft.ifft(self.state[::-1])\n",
    "\n",
    "    def __mul__(self, other):\n",
    "        \"\"\" This function calculate the multiplication of two qubit and return result \"\"\"\n",
    "        self.fft(), other.fft()\n",
    "        c = [0]*(2**5)\n",
    "        for i in range(len(self.state)):\n",
    "            c[i] = self.state[i]*other.state[i]\n",
    "        c = qubit(5, c)\n",
    "        c.ifft()\n",
    "        return c\n",
    "\n",
    "    def extract_result(self):\n",
    "        \"\"\" This function uses to decode the qubit to result \"\"\"\n",
    "        res = [0]*(2**5)\n",
    "        for i in range(len(self.state)):\n",
    "            res[i] = round(abs(self.state[i]))\n",
    "        res = res[::-1]\n",
    "        result = 0\n",
    "        for i,j in enumerate(res):\n",
    "            result += j*2**i\n",
    "        result = int(result/2)\n",
    "        print(result)"
   ]
  },
  {
   "cell_type": "markdown",
   "id": "f5dfcf34-7e1a-4594-b653-9bb06169210b",
   "metadata": {},
   "source": [
    "## Multiplication of two number: 5 & 7\n",
    "\n",
    "- We define 5 qubit system\n",
    "- 5 qubit system have 32 sate\n",
    "- we encode 5, 7 in system\n"
   ]
  },
  {
   "cell_type": "code",
   "execution_count": 3,
   "id": "e9a70729-3f7b-439c-b19b-3d379507022a",
   "metadata": {},
   "outputs": [],
   "source": [
    "a = qubit(5)\n",
    "a.encoder(5)"
   ]
  },
  {
   "cell_type": "code",
   "execution_count": 4,
   "id": "fab43085-fb32-4eaf-814c-6dcfa692251c",
   "metadata": {},
   "outputs": [],
   "source": [
    "b = qubit(5)\n",
    "b.encoder(7)"
   ]
  },
  {
   "cell_type": "code",
   "execution_count": 5,
   "id": "636b0a17-2381-458f-a707-179df30384cf",
   "metadata": {},
   "outputs": [
    {
     "name": "stdout",
     "output_type": "stream",
     "text": [
      "35\n"
     ]
    }
   ],
   "source": [
    "res = a*b\n",
    "res.extract_result()"
   ]
  },
  {
   "cell_type": "markdown",
   "id": "4e7a8036-8e0b-463c-a9a3-f9fcf5cd9fcd",
   "metadata": {},
   "source": [
    "## Multiplication of two number: 8616 & 4532\n",
    "\n",
    "- We define 5 qubit system\n",
    "- 5 qubit system have 32 sate\n",
    "- we encode 8616 & 4532 in system\n"
   ]
  },
  {
   "cell_type": "code",
   "execution_count": 6,
   "id": "f3efe326-6004-4b52-bcb3-371421fa7829",
   "metadata": {},
   "outputs": [
    {
     "name": "stdout",
     "output_type": "stream",
     "text": [
      "39047712\n"
     ]
    }
   ],
   "source": [
    "a = qubit(5)\n",
    "a.encoder(8616)\n",
    "b=qubit(5)\n",
    "b.encoder(4532)\n",
    "\n",
    "res = a*b\n",
    "res.extract_result()"
   ]
  },
  {
   "cell_type": "code",
   "execution_count": null,
   "id": "74c1060e-5da8-4db4-95b1-448f1727fdd1",
   "metadata": {},
   "outputs": [],
   "source": []
  }
 ],
 "metadata": {
  "kernelspec": {
   "display_name": "Python 3 (ipykernel)",
   "language": "python",
   "name": "python3"
  },
  "language_info": {
   "codemirror_mode": {
    "name": "ipython",
    "version": 3
   },
   "file_extension": ".py",
   "mimetype": "text/x-python",
   "name": "python",
   "nbconvert_exporter": "python",
   "pygments_lexer": "ipython3",
   "version": "3.11.9"
  }
 },
 "nbformat": 4,
 "nbformat_minor": 5
}
