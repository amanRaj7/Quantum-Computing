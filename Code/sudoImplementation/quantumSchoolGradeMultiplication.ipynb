{
 "cells": [
  {
   "cell_type": "code",
   "execution_count": 160,
   "id": "9631dff5-dbad-4fcb-b26f-019dfe70d96b",
   "metadata": {},
   "outputs": [],
   "source": [
    "class state:\n",
    "    def __init__(self, comprob_a, comprob_b):\n",
    "        self.prob_a = comprob_a\n",
    "        self.prob_b = comprob_b\n",
    "    def modify(self, prob_0, prob_1):\n",
    "        self.prob_a = prob_0\n",
    "        self.prob_b = prob_1\n",
    "    def __str__(self):\n",
    "        out = \"Probability: \\n\"\n",
    "        out += \"Prob of 0: \"\n",
    "        out += str((abs(self.prob_a))**2)\n",
    "        out += '\\n'\n",
    "        out += \"Prob of 1: \"\n",
    "        out += str((abs(self.prob_b))**2)\n",
    "        out += '\\n'\n",
    "        out += self.qubit()\n",
    "        out += '\\n-------\\n'\n",
    "        return out\n",
    "    def __eq__(self, other):\n",
    "        if self.prob_a == other.prob_a and self.prob_b==other.prob_b:\n",
    "            return True\n",
    "        else:\n",
    "            return False\n",
    "    def qubit(self):\n",
    "        out = ''\n",
    "        out += 'Qubit: '\n",
    "        out += str(self.prob_a) if (self.prob_a != 0) else ''\n",
    "        out += '|0>' if (self.prob_a!=0) else ''\n",
    "        out += '+' if ((self.prob_a!=0) and (self.prob_b!=0)) else ''\n",
    "        out += str(self.prob_b) if (self.prob_b != 0) else ''\n",
    "        out += '|1>' if (self.prob_b!=0) else ''\n",
    "        return out"
   ]
  },
  {
   "cell_type": "code",
   "execution_count": 161,
   "id": "93668fb8-22d7-4455-9d93-62a2cedd2445",
   "metadata": {},
   "outputs": [],
   "source": [
    "# Defining the state of v Gate\n",
    "state_1 = state(1, 0) # define the |0>\n",
    "state_2 = state((1/(0+2j)**0.5), (1j/(0+2j)**0.5))\n",
    "state_3 = state(0, 1) # define the |1>\n",
    "state_4 = state( (1j/(0+2j)**0.5), (1/(0+2j)**0.5))\n",
    "state_arr = [state_1, state_2, state_3, state_4]"
   ]
  },
  {
   "cell_type": "code",
   "execution_count": 162,
   "id": "b1889ba0-abc6-4da1-bec5-b49016e6c963",
   "metadata": {},
   "outputs": [
    {
     "name": "stdout",
     "output_type": "stream",
     "text": [
      "(0.4999999999999999-0.4999999999999999j)\n"
     ]
    }
   ],
   "source": [
    "print(state_2.prob_a)"
   ]
  },
  {
   "cell_type": "code",
   "execution_count": 163,
   "id": "2c26d423-9c76-437d-a057-c45506a11ff5",
   "metadata": {},
   "outputs": [],
   "source": [
    "def vGate(cont,out):\n",
    "    \"\"\" V Gate act as state machine \"\"\"\n",
    "    if cont==state_1:\n",
    "        # No change to out\n",
    "        return out\n",
    "    elif cont==state_3:\n",
    "        # change out state to next state\n",
    "        return state_arr[(state_arr.index(out)+1)%4]"
   ]
  },
  {
   "cell_type": "code",
   "execution_count": 164,
   "id": "b38d1a04-2e7d-4389-91eb-a2e70d90d3be",
   "metadata": {},
   "outputs": [],
   "source": [
    "# test vGate\n",
    "a0 = state(1,0)\n",
    "b0 = state(0, 1)\n",
    "c0 = vGate(a0,b0)"
   ]
  },
  {
   "cell_type": "code",
   "execution_count": 165,
   "id": "00d2a4bc-3176-469c-b82e-7c4ee567f5a3",
   "metadata": {},
   "outputs": [
    {
     "name": "stdout",
     "output_type": "stream",
     "text": [
      "Probability: \n",
      "Prob of 0: 0\n",
      "Prob of 1: 1\n",
      "Qubit: 1|1>\n",
      "-------\n",
      "\n"
     ]
    }
   ],
   "source": [
    "print(c0)"
   ]
  },
  {
   "cell_type": "code",
   "execution_count": 166,
   "id": "aadd6197-602f-4255-87a7-d948943004f6",
   "metadata": {},
   "outputs": [],
   "source": [
    "a1 = state(0, 1)\n",
    "b1 = state_3\n",
    "c1 = vGate(a1, b1)"
   ]
  },
  {
   "cell_type": "code",
   "execution_count": 167,
   "id": "7d823f6d-702b-4ea7-9633-8bebb092401d",
   "metadata": {},
   "outputs": [
    {
     "name": "stdout",
     "output_type": "stream",
     "text": [
      "Probability: \n",
      "Prob of 0: 0.4999999999999998\n",
      "Prob of 1: 0.4999999999999998\n",
      "Qubit: (0.4999999999999999+0.4999999999999999j)|0>+(0.4999999999999999-0.4999999999999999j)|1>\n",
      "-------\n",
      "\n"
     ]
    }
   ],
   "source": [
    "print(c1)"
   ]
  },
  {
   "cell_type": "markdown",
   "id": "9d1081a0-c236-4ec1-9635-05d34d8ffe7c",
   "metadata": {},
   "source": [
    "> V Gate look fine and work"
   ]
  },
  {
   "cell_type": "code",
   "execution_count": 168,
   "id": "bf2ab1fd-1f9d-4d7d-b997-4a8fcf27f608",
   "metadata": {},
   "outputs": [],
   "source": [
    "def vGateT(cont, out):\n",
    "    \"\"\" Defining the transpose of vGate \"\"\"\n",
    "    if cont==state_1:\n",
    "        # No change to out\n",
    "        return out\n",
    "    elif cont==state_3:\n",
    "        # change out state to prev state\n",
    "        return state_arr[(state_arr.index(out)-1)%4]"
   ]
  },
  {
   "cell_type": "code",
   "execution_count": 169,
   "id": "faf8c7fe-6bc8-45d6-b7c8-99baed04d6fe",
   "metadata": {},
   "outputs": [],
   "source": [
    "# Test for vGate-Transpose\n",
    "c0T = vGateT(a0, c0)\n",
    "c1T = vGateT(a1, c1)"
   ]
  },
  {
   "cell_type": "code",
   "execution_count": 170,
   "id": "df00ad92-5225-4db3-900f-9c397c5f1206",
   "metadata": {},
   "outputs": [
    {
     "name": "stdout",
     "output_type": "stream",
     "text": [
      "Probability: \n",
      "Prob of 0: 0\n",
      "Prob of 1: 1\n",
      "Qubit: 1|1>\n",
      "-------\n",
      "\n",
      "Probability: \n",
      "Prob of 0: 0\n",
      "Prob of 1: 1\n",
      "Qubit: 1|1>\n",
      "-------\n",
      "\n"
     ]
    }
   ],
   "source": [
    "print(c0T)\n",
    "print(c1T)"
   ]
  },
  {
   "cell_type": "markdown",
   "id": "5ff91647-ddc3-42e8-9d0c-711f1408aa2a",
   "metadata": {},
   "source": [
    "> Transpose gate also work fine"
   ]
  },
  {
   "cell_type": "code",
   "execution_count": 171,
   "id": "31fb6186-7063-46fc-a1c3-3891c853a43f",
   "metadata": {},
   "outputs": [],
   "source": [
    "def cNot(cont, out):\n",
    "    \"\"\" This function implement quantum cNot\"\"\"\n",
    "    if cont==state_1:\n",
    "        # No change to out\n",
    "        return out\n",
    "    elif cont==state_3:\n",
    "        # change the state |0> to |1> and |1> to |0>\n",
    "        if out==state_1:\n",
    "            return state_3\n",
    "        elif out==state_3:\n",
    "            return state_1\n",
    "        else:\n",
    "            print(\"Not handled yet\")"
   ]
  },
  {
   "cell_type": "code",
   "execution_count": 172,
   "id": "168eb8b0-3da1-49c2-8553-4c89e09ec214",
   "metadata": {},
   "outputs": [
    {
     "name": "stdout",
     "output_type": "stream",
     "text": [
      "Probability: \n",
      "Prob of 0: 1\n",
      "Prob of 1: 0\n",
      "Qubit: 1|0>\n",
      "-------\n",
      " Probability: \n",
      "Prob of 0: 0\n",
      "Prob of 1: 1\n",
      "Qubit: 1|1>\n",
      "-------\n",
      "\n",
      "Probability: \n",
      "Prob of 0: 1\n",
      "Prob of 1: 0\n",
      "Qubit: 1|0>\n",
      "-------\n",
      " Probability: \n",
      "Prob of 0: 0\n",
      "Prob of 1: 1\n",
      "Qubit: 1|1>\n",
      "-------\n",
      "\n"
     ]
    }
   ],
   "source": [
    "# Test of cNot\n",
    "a2 = state_1\n",
    "b2 = state_1\n",
    "c2 = state_3\n",
    "print(b2, c2)\n",
    "\n",
    "b2 = cNot(a2, b2)\n",
    "c2 = cNot(a2, c2)\n",
    "print(b2, c2)"
   ]
  },
  {
   "cell_type": "code",
   "execution_count": 173,
   "id": "82b26d6d-0a0b-43e2-b6e2-076d3454f8c9",
   "metadata": {},
   "outputs": [
    {
     "name": "stdout",
     "output_type": "stream",
     "text": [
      "Probability: \n",
      "Prob of 0: 1\n",
      "Prob of 1: 0\n",
      "Qubit: 1|0>\n",
      "-------\n",
      " Probability: \n",
      "Prob of 0: 0\n",
      "Prob of 1: 1\n",
      "Qubit: 1|1>\n",
      "-------\n",
      "\n",
      "Probability: \n",
      "Prob of 0: 0\n",
      "Prob of 1: 1\n",
      "Qubit: 1|1>\n",
      "-------\n",
      " Probability: \n",
      "Prob of 0: 1\n",
      "Prob of 1: 0\n",
      "Qubit: 1|0>\n",
      "-------\n",
      "\n"
     ]
    }
   ],
   "source": [
    "a2 = state_3\n",
    "b2 = state_1\n",
    "c2 = state_3\n",
    "print(b2, c2)\n",
    "\n",
    "b2 = cNot(a2,b2)\n",
    "c2 = cNot(a2,c2)\n",
    "print(b2, c2)"
   ]
  },
  {
   "cell_type": "code",
   "execution_count": 174,
   "id": "ef9645d8-7532-4a46-87d0-c536f4d73c8c",
   "metadata": {},
   "outputs": [],
   "source": [
    "def ppg(a, b, s = state_1):\n",
    "    \"\"\" This function simulated the working of Product pair generator (implement quantum computing) \"\"\"\n",
    "    s = vGate(a, s)\n",
    "    a = cNot(b, a)\n",
    "    s = vGate(b, s)\n",
    "    s = vGateT(a, s)\n",
    "    a = cNot(b, a)\n",
    "    return a, b, s"
   ]
  },
  {
   "cell_type": "code",
   "execution_count": 175,
   "id": "37754f61-5df7-4488-abfd-1503fe5581fc",
   "metadata": {},
   "outputs": [],
   "source": [
    "# Test for ppg function\n",
    "a0 = state_1\n",
    "b0 = state_3\n",
    "a0, b0, p0 = ppg(a0,b0)"
   ]
  },
  {
   "cell_type": "code",
   "execution_count": 176,
   "id": "f1144e68-bf65-4fd2-a8bc-cd5c5aeb3f54",
   "metadata": {},
   "outputs": [
    {
     "name": "stdout",
     "output_type": "stream",
     "text": [
      "Probability: \n",
      "Prob of 0: 1\n",
      "Prob of 1: 0\n",
      "Qubit: 1|0>\n",
      "-------\n",
      " Probability: \n",
      "Prob of 0: 0\n",
      "Prob of 1: 1\n",
      "Qubit: 1|1>\n",
      "-------\n",
      " Probability: \n",
      "Prob of 0: 1\n",
      "Prob of 1: 0\n",
      "Qubit: 1|0>\n",
      "-------\n",
      "\n"
     ]
    }
   ],
   "source": [
    "print(a0,b0,p0)"
   ]
  },
  {
   "cell_type": "code",
   "execution_count": 177,
   "id": "332fb2ab-9c9c-4b69-8caf-38f9d913fad2",
   "metadata": {},
   "outputs": [],
   "source": [
    "a1 = state_3\n",
    "b1 = state_3\n",
    "a1, b1, p1 = ppg(a1, b1)"
   ]
  },
  {
   "cell_type": "code",
   "execution_count": 178,
   "id": "e83f3b31-14d1-4052-8e06-65ba095b961a",
   "metadata": {},
   "outputs": [
    {
     "name": "stdout",
     "output_type": "stream",
     "text": [
      "Probability: \n",
      "Prob of 0: 0\n",
      "Prob of 1: 1\n",
      "Qubit: 1|1>\n",
      "-------\n",
      " Probability: \n",
      "Prob of 0: 0\n",
      "Prob of 1: 1\n",
      "Qubit: 1|1>\n",
      "-------\n",
      " Probability: \n",
      "Prob of 0: 0\n",
      "Prob of 1: 1\n",
      "Qubit: 1|1>\n",
      "-------\n",
      "\n"
     ]
    }
   ],
   "source": [
    "print(a1, b1, p1)"
   ]
  },
  {
   "cell_type": "code",
   "execution_count": 179,
   "id": "50b606be-8561-4d56-b6aa-61b16bfd2b3e",
   "metadata": {},
   "outputs": [
    {
     "name": "stdout",
     "output_type": "stream",
     "text": [
      "Qubit: 1|0>  *  Qubit: 1|0> Qubit: 1|0>\n",
      "Qubit: 1|0>  *  Qubit: 1|1> Qubit: 1|0>\n",
      "Qubit: 1|1>  *  Qubit: 1|0> Qubit: 1|0>\n",
      "Qubit: 1|1>  *  Qubit: 1|1> Qubit: 1|1>\n"
     ]
    }
   ],
   "source": [
    "cbit=[state_1, state_3]\n",
    "for i in cbit:\n",
    "    for j in cbit:\n",
    "        i,j,p = ppg(i,j)\n",
    "        print(i.qubit(), ' * ', j.qubit(), p.qubit())"
   ]
  },
  {
   "cell_type": "markdown",
   "id": "7cf03672-6acd-4dfc-8387-41f655ab550f",
   "metadata": {},
   "source": [
    "> Look fine"
   ]
  },
  {
   "cell_type": "code",
   "execution_count": 180,
   "id": "3f3aa0a9-b6e9-4f24-9f58-cc35ee7b401c",
   "metadata": {},
   "outputs": [],
   "source": [
    "def qfa(a, b, c, s=state_1):\n",
    "    \"\"\"This function implement the quantum full addition\"\"\"\n",
    "    temp = (a,b,c)\n",
    "    s = vGate(b, s)\n",
    "    s = vGate(a, s)\n",
    "    b = cNot(a, b)\n",
    "    s = vGate(c, s)\n",
    "    c = cNot(b, c)\n",
    "    s = vGateT(c,s)\n",
    "    return temp[0], temp[1], temp[2], c, s"
   ]
  },
  {
   "cell_type": "code",
   "execution_count": 181,
   "id": "1f188e7d-7350-4f04-8b9a-7a650443d67f",
   "metadata": {},
   "outputs": [
    {
     "name": "stdout",
     "output_type": "stream",
     "text": [
      "Qubit: 1|0> + Qubit: 1|0> + Qubit: 1|0> = Qubit: 1|0> carry:  Qubit: 1|0>\n",
      "Qubit: 1|0> + Qubit: 1|0> + Qubit: 1|1> = Qubit: 1|1> carry:  Qubit: 1|0>\n",
      "Qubit: 1|0> + Qubit: 1|1> + Qubit: 1|0> = Qubit: 1|1> carry:  Qubit: 1|0>\n",
      "Qubit: 1|0> + Qubit: 1|1> + Qubit: 1|1> = Qubit: 1|0> carry:  Qubit: 1|1>\n",
      "Qubit: 1|1> + Qubit: 1|0> + Qubit: 1|0> = Qubit: 1|1> carry:  Qubit: 1|0>\n",
      "Qubit: 1|1> + Qubit: 1|0> + Qubit: 1|1> = Qubit: 1|0> carry:  Qubit: 1|1>\n",
      "Qubit: 1|1> + Qubit: 1|1> + Qubit: 1|0> = Qubit: 1|0> carry:  Qubit: 1|1>\n",
      "Qubit: 1|1> + Qubit: 1|1> + Qubit: 1|1> = Qubit: 1|1> carry:  Qubit: 1|1>\n"
     ]
    }
   ],
   "source": [
    "# Test of qfa\n",
    "cbit = [state_1, state_3]\n",
    "for i in cbit:\n",
    "    for j in cbit:\n",
    "        for k in cbit:\n",
    "            i, j, k, s, carry = qfa(i,j,k)\n",
    "            print(i.qubit(), '+', j.qubit(), '+', k.qubit(), '=', s.qubit(), 'carry: ', carry.qubit())\n"
   ]
  },
  {
   "cell_type": "markdown",
   "id": "63bf04b8-b684-4049-a626-8172952dcb78",
   "metadata": {},
   "source": [
    "> qfa look fine"
   ]
  },
  {
   "cell_type": "code",
   "execution_count": 182,
   "id": "6cb54c3a-c52f-48dd-ae78-67a2dc3bc0d5",
   "metadata": {},
   "outputs": [],
   "source": [
    "# Implementing quantum circuit of grade school multiplication algorithm\n",
    "def quantum_multiplication(multiplier, multiplicand):\n",
    "    \"\"\"The function multiplied two quantum number\"\"\"\n",
    "    x0y0 = ppg(multiplier[0], multiplicand[0])[-1]\n",
    "    x0y1 = ppg(multiplier[0], multiplicand[1])[-1]\n",
    "    x0y2 = ppg(multiplier[0], multiplicand[2])[-1]\n",
    "    x0y3 = ppg(multiplier[0], multiplicand[3])[-1]\n",
    "    x1y0 = ppg(multiplier[1], multiplicand[0])[-1]\n",
    "    x1y1 = ppg(multiplier[1], multiplicand[1])[-1]\n",
    "    x1y2 = ppg(multiplier[1], multiplicand[2])[-1]\n",
    "    x1y3 = ppg(multiplier[1], multiplicand[3])[-1]\n",
    "    x2y0 = ppg(multiplier[2], multiplicand[0])[-1]\n",
    "    x2y1 = ppg(multiplier[2], multiplicand[1])[-1]\n",
    "    x2y2 = ppg(multiplier[2], multiplicand[2])[-1]\n",
    "    x2y3 = ppg(multiplier[2], multiplicand[3])[-1]\n",
    "    x3y0 = ppg(multiplier[3], multiplicand[0])[-1]\n",
    "    x3y1 = ppg(multiplier[3], multiplicand[1])[-1]\n",
    "    x3y2 = ppg(multiplier[3], multiplicand[2])[-1]\n",
    "    x3y3 = ppg(multiplier[3], multiplicand[3])[-1]\n",
    "    pro = [state_1]*7\n",
    "    c = state_1\n",
    "    pro[0], c = qfa(x0y0, state_1, state_1)[3:]\n",
    "    pro[1], c = qfa(x1y0, x0y1, c)[3:]\n",
    "    pro[2],c = qfa(x2y0, x1y1, c)[3:]\n",
    "    pro[2],c = qfa(pro[2],x0y2,c)[3:]\n",
    "    pro[3],c = qfa(x3y0, x2y1, c)[3:]\n",
    "    pro[3],c = qfa(pro[3],x1y2, c)[3:]\n",
    "    pro[3],c = qfa(pro[3],x0y3, c)[3:]\n",
    "    pro[4],c = qfa(x3y1, x2y2, c)[3:]\n",
    "    pro[4],c = qfa(pro[4],x1y3,c)[3:]\n",
    "    pro[5],c = qfa(x3y2, x2y3, c)[3:]\n",
    "    pro[6],c = qfa(x3y3, state_1, c)[3:]\n",
    "    return pro"
   ]
  },
  {
   "cell_type": "code",
   "execution_count": 183,
   "id": "f73795b2-01ef-47fb-9ad1-8867824167c9",
   "metadata": {},
   "outputs": [
    {
     "data": {
      "text/plain": [
       "<__main__.state at 0x1935399a210>"
      ]
     },
     "execution_count": 183,
     "metadata": {},
     "output_type": "execute_result"
    }
   ],
   "source": [
    "a = [state_3, state_1, state_3, state_3] # 1101\n",
    "a[0]"
   ]
  },
  {
   "cell_type": "code",
   "execution_count": null,
   "id": "d280bda7-faf6-4041-ad30-a6ce18bd58c5",
   "metadata": {},
   "outputs": [],
   "source": [
    "a = [state_3, state_1, state_3, state_3] # 1101\n",
    "b = [state_1, state_1, state_3, state_1] # 0100\n",
    "p = quantum_multiplication(a, b) # 0110100"
   ]
  },
  {
   "cell_type": "code",
   "execution_count": 185,
   "id": "f2066512-3c87-4367-a226-0602d22d4651",
   "metadata": {},
   "outputs": [
    {
     "name": "stdout",
     "output_type": "stream",
     "text": [
      "0 Qubit: 1|0>\n",
      "1 Qubit: 1|0>\n",
      "2 Qubit: 1|1>\n",
      "3 Qubit: 1|0>\n",
      "4 Qubit: 1|1>\n",
      "5 Qubit: 1|1>\n",
      "6 Qubit: 1|0>\n"
     ]
    }
   ],
   "source": [
    "for (i,x) in enumerate(p):\n",
    "    print(i, x.qubit())"
   ]
  },
  {
   "cell_type": "code",
   "execution_count": 258,
   "id": "cf02c938-cf0c-4d01-ac12-f994b79c165f",
   "metadata": {},
   "outputs": [],
   "source": [
    "def mapper(num1, num2):\n",
    "    \"\"\"This function take two number and return its quatum state\"\"\"\n",
    "    bin1 = bin(num1)[2:]\n",
    "    bin2 = bin(num2)[2:]\n",
    "    t = 4#max(len(bin1), len(bin2))\n",
    "    bin1 = '0'*(t-len(bin1))+bin1\n",
    "    bin2 = '0'*(t-len(bin2))+bin2\n",
    "    bin1 = list(map(lambda x: state_1 if x=='0' else state_3, bin1))\n",
    "    bin2 = list(map(lambda x: state_1 if x=='0' else state_3, bin2))\n",
    "    bin1 = bin1[::-1]\n",
    "    bin2 = bin2[::-1]\n",
    "    return bin1, bin2"
   ]
  },
  {
   "cell_type": "code",
   "execution_count": 259,
   "id": "1d0bceb8-657d-4da5-9888-b5f3ade855b3",
   "metadata": {},
   "outputs": [],
   "source": [
    "def get_result(quantum):\n",
    "    \"\"\"This function convert quantum result to numerical value\"\"\"\n",
    "    num = '0b'+''.join(list(map(lambda x: '0' if x==state_1 else '1', quantum))[::-1])\n",
    "    print(num)\n",
    "    print(int(num,2))"
   ]
  },
  {
   "cell_type": "code",
   "execution_count": 260,
   "id": "b7aaa657-0e86-452d-b898-8c309af86a12",
   "metadata": {},
   "outputs": [
    {
     "name": "stdout",
     "output_type": "stream",
     "text": [
      "0b0101\n",
      "5\n",
      "0b1010\n",
      "10\n",
      "0b0110010\n",
      "50\n"
     ]
    }
   ],
   "source": [
    "q0, q1 = mapper(5, 10)\n",
    "get_result(q0)\n",
    "get_result(q1)\n",
    "product = quantum_multiplication(q0, q1)\n",
    "get_result(product)"
   ]
  },
  {
   "cell_type": "code",
   "execution_count": 261,
   "id": "763c0156-3247-4194-8499-261db7aeb30f",
   "metadata": {},
   "outputs": [
    {
     "name": "stdout",
     "output_type": "stream",
     "text": [
      "Qubit: 1|0>\n",
      "Qubit: 1|1>\n",
      "Qubit: 1|0>\n",
      "Qubit: 1|0>\n",
      "Qubit: 1|1>\n",
      "Qubit: 1|1>\n",
      "Qubit: 1|0>\n"
     ]
    }
   ],
   "source": [
    "for i in product:\n",
    "    print(i.qubit())"
   ]
  },
  {
   "cell_type": "code",
   "execution_count": 262,
   "id": "e486e5e5-d796-4eca-b0f4-f13a2be06b31",
   "metadata": {},
   "outputs": [
    {
     "name": "stdout",
     "output_type": "stream",
     "text": [
      "0b0110010\n",
      "50\n"
     ]
    }
   ],
   "source": [
    "get_result(product)"
   ]
  },
  {
   "cell_type": "code",
   "execution_count": 263,
   "id": "50eb4989",
   "metadata": {},
   "outputs": [
    {
     "name": "stdout",
     "output_type": "stream",
     "text": [
      "input:  5 10\n",
      "output: 0b0110010\n",
      "50\n"
     ]
    }
   ],
   "source": [
    "a = 5\n",
    "b = 10\n",
    "aQ, bQ = mapper(a, b)\n",
    "p = quantum_multiplication(aQ, bQ)\n",
    "print('input: ', a, b)\n",
    "print('output: ', end='')\n",
    "get_result(p)\n"
   ]
  },
  {
   "cell_type": "code",
   "execution_count": 266,
   "id": "f65ab060",
   "metadata": {},
   "outputs": [
    {
     "name": "stdout",
     "output_type": "stream",
     "text": [
      "0b1010\n",
      "10\n",
      "0b1111\n",
      "15\n",
      "0b0001110\n",
      "14\n"
     ]
    }
   ],
   "source": [
    "a = 10\n",
    "b = 15\n",
    "aQ, bQ = mapper(a, b)\n",
    "get_result(aQ)\n",
    "get_result(bQ)\n",
    "p = quantum_multiplication(aQ, bQ)\n",
    "get_result(p)"
   ]
  },
  {
   "cell_type": "code",
   "execution_count": 267,
   "id": "fd471022",
   "metadata": {},
   "outputs": [],
   "source": [
    "# Implementing quantum circuit of grade school multiplication algorithm\n",
    "def quantum_multiplication4X4(multiplier, multiplicand):\n",
    "    \"\"\"The function multiplied two quantum number\"\"\"\n",
    "    x0y0 = ppg(multiplier[0], multiplicand[0])[-1]\n",
    "    x0y1 = ppg(multiplier[0], multiplicand[1])[-1]\n",
    "    x0y2 = ppg(multiplier[0], multiplicand[2])[-1]\n",
    "    x0y3 = ppg(multiplier[0], multiplicand[3])[-1]\n",
    "    x1y0 = ppg(multiplier[1], multiplicand[0])[-1]\n",
    "    x1y1 = ppg(multiplier[1], multiplicand[1])[-1]\n",
    "    x1y2 = ppg(multiplier[1], multiplicand[2])[-1]\n",
    "    x1y3 = ppg(multiplier[1], multiplicand[3])[-1]\n",
    "    x2y0 = ppg(multiplier[2], multiplicand[0])[-1]\n",
    "    x2y1 = ppg(multiplier[2], multiplicand[1])[-1]\n",
    "    x2y2 = ppg(multiplier[2], multiplicand[2])[-1]\n",
    "    x2y3 = ppg(multiplier[2], multiplicand[3])[-1]\n",
    "    x3y0 = ppg(multiplier[3], multiplicand[0])[-1]\n",
    "    x3y1 = ppg(multiplier[3], multiplicand[1])[-1]\n",
    "    x3y2 = ppg(multiplier[3], multiplicand[2])[-1]\n",
    "    x3y3 = ppg(multiplier[3], multiplicand[3])[-1]\n",
    "    pro = [state_1]*8\n",
    "    c = state_1\n",
    "    pro[0], c = qfa(x0y0, state_1, state_1)[3:]\n",
    "    pro[1], c = qfa(x1y0, x0y1, c)[3:]\n",
    "    pro[2],c = qfa(x2y0, x1y1, c)[3:]\n",
    "    pro[2],c = qfa(pro[2],x0y2,c)[3:]\n",
    "    pro[3],c = qfa(x3y0, x2y1, c)[3:]\n",
    "    pro[3],c = qfa(pro[3],x1y2, c)[3:]\n",
    "    pro[3],c = qfa(pro[3],x0y3, c)[3:]\n",
    "    pro[4],c = qfa(x3y1, x2y2, c)[3:]\n",
    "    pro[4],c = qfa(pro[4],x1y3,c)[3:]\n",
    "    pro[5],c = qfa(x3y2, x2y3, c)[3:]\n",
    "    pro[6],c = qfa(x3y3, state_1, c)[3:]\n",
    "    pro[7] = c\n",
    "    return pro"
   ]
  },
  {
   "cell_type": "code",
   "execution_count": null,
   "id": "8fc89e52",
   "metadata": {},
   "outputs": [
    {
     "name": "stdout",
     "output_type": "stream",
     "text": [
      "0b1101\n",
      "13\n",
      "0b0100\n",
      "4\n",
      "0b00110100\n",
      "52\n"
     ]
    }
   ],
   "source": [
    "a = 13   \n",
    "b = 4\n",
    "aQ, bQ = mapper(a, b)\n",
    "get_result(aQ)\n",
    "get_result(bQ)\n",
    "p = quantum_multiplication4X4(aQ, bQ)\n",
    "get_result(p)"
   ]
  }
 ],
 "metadata": {
  "kernelspec": {
   "display_name": "quantum",
   "language": "python",
   "name": "python3"
  },
  "language_info": {
   "codemirror_mode": {
    "name": "ipython",
    "version": 3
   },
   "file_extension": ".py",
   "mimetype": "text/x-python",
   "name": "python",
   "nbconvert_exporter": "python",
   "pygments_lexer": "ipython3",
   "version": "3.11.9"
  }
 },
 "nbformat": 4,
 "nbformat_minor": 5
}
